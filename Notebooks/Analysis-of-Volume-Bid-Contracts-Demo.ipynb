{
 "cells": [
  {
   "cell_type": "markdown",
   "id": "1fd55e3b-a667-4aec-ad04-cfbefa1d8452",
   "metadata": {},
   "source": [
    "<H1 style=\"color: #156082; font-family: 'Lucida Bright', sans-serif;\"> The Effects of Volume Bid Contracts on Service Level Agreements </H1>"
   ]
  },
  {
   "cell_type": "markdown",
   "id": "5b91ffc5-56ce-41be-bde1-b2753f9a71ef",
   "metadata": {},
   "source": [
    "<a id='contents'></a>\n",
    "<H3 style=\"color: #156082; font-family: 'Lucida Bright', sans-serif;\">Table of Contents</H3>\n",
    "\n",
    "   <ul style=\"font-family: 'Verdana', sans-serif;\">\n",
    "     <li><a href=\"#intro\">Introduction</a></li>\n",
    "     <li><a href=\"#set_environment\">Section 1 - Set Environment</a></li>\n",
    "     <li><a href=\"#process_data\">Section 2 - Load and Process Data</a></li>\n",
    "     <li><a href=\"#visual_analysis\">Section 3 - Visual Analysis</a></li>\n",
    "     <li><a href=\"#outlier_analysis\">Section 4 - Outlier Analysis</a></li>\n",
    "     <li><a href=\"#distribution_analysis\">Section 5 - Data Distribution Analysis</a></li>\n",
    "     <li><a href=\"#transformation_analysis\">Section 6 - Data Transformation Analysis</a></li>\n",
    "     <li><a href=\"#t_test_analysis\">Section 7 - Independent T-Test Analysis</a></li>\n",
    "     <li><a href=\"#u_test_analysis\">Section 8 - Mann-Whitney U Test Analysis</a></li>\n",
    "     <li><a href=\"#param_nonparam_analysis\">Section 9 - Parametric and Nonparametric Analysis</a></li>\n",
    "     <li><a href=\"#chi_square_analysis\">Section 10 - Chi-Square Analysis</a></li>\n",
    "     <li><a href=\"#conclusion\">Conclusion</a></li>\n",
    "   </ul>"
   ]
  },
  {
   "cell_type": "markdown",
   "id": "a163bbfc-4ce6-4207-8f41-71a350f4ed77",
   "metadata": {},
   "source": [
    "<a id='set_environment'></a>\n",
    "<H2 style=\"color: #156082; font-family: 'Lucida Bright', sans-serif;\"> Section 1 - Set Environment </H2>"
   ]
  },
  {
   "cell_type": "markdown",
   "id": "cdd407ff-bc33-4e2c-b98f-23d622b8d86f",
   "metadata": {},
   "source": [
    "<a id='set_environment_1'></a>\n",
    "<H4 style=\"color: #156082; font-family: 'Lucida Bright', sans-serif;\"> Set Environment 1 - Import Packages and Libraries </H4>"
   ]
  },
  {
   "cell_type": "code",
   "execution_count": 1,
   "id": "e856d690-7679-4962-97d5-7af5cf541766",
   "metadata": {},
   "outputs": [],
   "source": [
    "import os\n",
    "import sys"
   ]
  },
  {
   "cell_type": "markdown",
   "id": "405d57e4-9596-45df-990a-cc153132c61a",
   "metadata": {},
   "source": [
    "<a id='set_environment_2'></a>\n",
    "<H4 style=\"color: #156082; font-family: 'Lucida Bright', sans-serif;\"> Set Environment 2 - Set Path to Python Files </H4>"
   ]
  },
  {
   "cell_type": "code",
   "execution_count": 2,
   "id": "d2c7bc30-6bcb-4a3f-b1b9-7dcb10a6e0bc",
   "metadata": {},
   "outputs": [],
   "source": [
    "module_path = os.path.abspath(os.path.join('..', 'Python'))\n",
    "if module_path not in sys.path: sys.path.append(module_path) "
   ]
  },
  {
   "cell_type": "markdown",
   "id": "e32b7584-133b-42ce-b62d-b60b930f11b5",
   "metadata": {},
   "source": [
    "<a id='set_environment_3'></a>\n",
    "<H4 style=\"color: #156082; font-family: 'Lucida Bright', sans-serif;\"> Set Environment 3 - Create the Analysis Main Object </H4>"
   ]
  },
  {
   "cell_type": "code",
   "execution_count": 3,
   "id": "a37745f7-6c9c-468d-8e45-45caa609e7e8",
   "metadata": {},
   "outputs": [],
   "source": [
    "from data_analysis_main import AnalysisMain\n",
    "am = AnalysisMain()"
   ]
  },
  {
   "cell_type": "markdown",
   "id": "47b9be94-f357-4950-8ada-ced40dd87fb0",
   "metadata": {},
   "source": [
    "<a id='process_data'></a>\n",
    "<H2 style=\"color: #156082; font-family: 'Lucida Bright', sans-serif;\"> Section 2 - Load and Process Data </H2>"
   ]
  },
  {
   "cell_type": "markdown",
   "id": "6e64be83-7634-4d60-878f-46e5ee226f2a",
   "metadata": {},
   "source": [
    "<a id='process_data_1'></a>\n",
    "<H4 style=\"color: #156082; font-family: 'Lucida Bright', sans-serif;\"> Load and Process Data 1 - Load Data from CSV Files </H4>"
   ]
  },
  {
   "cell_type": "code",
   "execution_count": 4,
   "id": "d111d2d6-cbf3-4e1b-9bd8-829f5464b4dd",
   "metadata": {},
   "outputs": [],
   "source": [
    "#am.load_data()"
   ]
  },
  {
   "cell_type": "markdown",
   "id": "d1630979-124e-4709-bbc0-a8691f2cf08c",
   "metadata": {},
   "source": [
    "<a id='process_data_2'></a>\n",
    "<H4 style=\"color: #156082; font-family: 'Lucida Bright', sans-serif;\"> Load and Process Data 2 - Process Loaded Data </H4>"
   ]
  },
  {
   "cell_type": "code",
   "execution_count": 5,
   "id": "6bde1358-916b-4521-b29b-0908794412a6",
   "metadata": {},
   "outputs": [],
   "source": [
    "#am.process_data()"
   ]
  },
  {
   "cell_type": "markdown",
   "id": "81c9ab45-6aad-48f6-8263-a36b2fe8903d",
   "metadata": {},
   "source": [
    "<a id='visual_analysis'></a>\n",
    "<H2 style=\"color: #156082; font-family: 'Lucida Bright', sans-serif;\"> Section 3 - Visual Analysis </H3>"
   ]
  },
  {
   "cell_type": "markdown",
   "id": "44d4cccc-5e69-4dac-9163-2e1c3139fc97",
   "metadata": {},
   "source": [
    "<a id='visual_analysis_1'></a>\n",
    "<H4 style=\"color: #156082; font-family: 'Lucida Bright', sans-serif;\"> Visual Analysis 1 - Histogram Plot Analysis of Data </H4>"
   ]
  },
  {
   "cell_type": "code",
   "execution_count": 6,
   "id": "535da9d1-e806-41a6-a01a-06ce4ac2cbf2",
   "metadata": {},
   "outputs": [],
   "source": [
    "#am.histogram_plot_analysis()"
   ]
  },
  {
   "cell_type": "markdown",
   "id": "8bd67120-6a5d-4b90-95dc-f85d93bd6db9",
   "metadata": {},
   "source": [
    "<a id='visual_analysis_2'></a>\n",
    "<H4 style=\"color: #156082; font-family: 'Lucida Bright', sans-serif;\"> Visual Analysis 2 - Box Plot Analysis of Data </H4>"
   ]
  },
  {
   "cell_type": "code",
   "execution_count": 7,
   "id": "92d4f5e0-973f-4912-84a3-324ae7f6608a",
   "metadata": {},
   "outputs": [],
   "source": [
    "#am.box_plot_analysis()"
   ]
  },
  {
   "cell_type": "markdown",
   "id": "d1b2f9ac-c447-4754-8472-1e7dfd2adab2",
   "metadata": {},
   "source": [
    "<a id='visual_analysis_3'></a>\n",
    "<H4 style=\"color: #156082; font-family: 'Lucida Bright', sans-serif;\"> Visual Analysis 3 - Count Plot Analysis of Priority Levels</H4>"
   ]
  },
  {
   "cell_type": "code",
   "execution_count": 8,
   "id": "79cf6c18-814c-4b12-8b04-eb33d8c61c0b",
   "metadata": {},
   "outputs": [],
   "source": [
    "#am.count_plot_analysis_1()"
   ]
  },
  {
   "cell_type": "markdown",
   "id": "9804a275-5904-4df7-b663-ea943e94e7f4",
   "metadata": {},
   "source": [
    "<a id='visual_analysis_4'></a>\n",
    "<H4 style=\"color: #156082; font-family: 'Lucida Bright', sans-serif;\"> Visual Analysis 4 - Violin Plot Analysis of Hours to Complete by Priority Levels</H4>"
   ]
  },
  {
   "cell_type": "code",
   "execution_count": 9,
   "id": "1d8ec3a9-2641-4852-ad5e-9bb535e92e8d",
   "metadata": {},
   "outputs": [],
   "source": [
    "#am.violin_plot_analysis_1()"
   ]
  },
  {
   "cell_type": "markdown",
   "id": "723044cc-7231-4b80-af23-e483c98db43c",
   "metadata": {},
   "source": [
    "<a id='visual_analysis_5'></a>\n",
    "<H4 style=\"color: #156082; font-family: 'Lucida Bright', sans-serif;\"> Visual Analysis 5 - Violin Plot Analysis of Days Past Due by Priority Levels</H4>"
   ]
  },
  {
   "cell_type": "code",
   "execution_count": 10,
   "id": "0e6d405c-651f-434e-a953-7fded7e6d3ec",
   "metadata": {},
   "outputs": [],
   "source": [
    "#am.violin_plot_analysis_2()"
   ]
  },
  {
   "cell_type": "markdown",
   "id": "7836be62-5f89-4750-97b4-7dd5f0dcc3f3",
   "metadata": {},
   "source": [
    "<a id='visual_analysis_6'></a>\n",
    "<H4 style=\"color: #156082; font-family: 'Lucida Bright', sans-serif;\"> Visual Analysis 6 - Count Plot Analysis of SLA Label</H4>"
   ]
  },
  {
   "cell_type": "code",
   "execution_count": 11,
   "id": "abae154e-647d-4c61-8777-67251ff5eb26",
   "metadata": {},
   "outputs": [],
   "source": [
    "#am.count_plot_analysis_2()"
   ]
  },
  {
   "cell_type": "markdown",
   "id": "bdd41717-f7af-4ce6-aebe-8b105d98413d",
   "metadata": {},
   "source": [
    "<a id='visual_analysis_7'></a>\n",
    "<H4 style=\"color: #156082; font-family: 'Lucida Bright', sans-serif;\"> Visual Analysis 7 - KDE Plot Analysis of SLA Label </H4>"
   ]
  },
  {
   "cell_type": "code",
   "execution_count": 12,
   "id": "e4f53c6b-a9be-42e6-9540-920750e6d992",
   "metadata": {},
   "outputs": [],
   "source": [
    "#am.kde_plot_analysis()"
   ]
  },
  {
   "cell_type": "markdown",
   "id": "2d0cb0bc-c3f1-4835-8b65-bedd1f60096d",
   "metadata": {},
   "source": [
    "<a id='visual_analysis_8'></a>\n",
    "<H4 style=\"color: #156082; font-family: 'Lucida Bright', sans-serif;\"> Visual Analysis 8 - Statistical Summary of Hours to Complete by SLA Label</H4>"
   ]
  },
  {
   "cell_type": "code",
   "execution_count": 13,
   "id": "ff5f5618-1ece-4a04-9b28-ea5058f33011",
   "metadata": {},
   "outputs": [],
   "source": [
    "#am.statistic_summary_1()"
   ]
  },
  {
   "cell_type": "markdown",
   "id": "085cc27b-43b9-405d-95f4-0ec137d6e29e",
   "metadata": {},
   "source": [
    "<a id='visual_analysis_9'></a>\n",
    "<H4 style=\"color: #156082; font-family: 'Lucida Bright', sans-serif;\"> Visual Analysis 9 - Statistical Summary of Days Past Due by SLA Label</H4>"
   ]
  },
  {
   "cell_type": "code",
   "execution_count": 14,
   "id": "fb3044eb-44dd-4547-8872-5615e3c01e1a",
   "metadata": {},
   "outputs": [],
   "source": [
    "#am.statistic_summary_2()"
   ]
  },
  {
   "cell_type": "markdown",
   "id": "545b15f5-b6a9-49d2-a2f3-b46522c9049f",
   "metadata": {},
   "source": [
    "<a id='outlier_analysis'></a>\n",
    "<H2 style=\"color: #156082; font-family: 'Lucida Bright', sans-serif;\"> Section 4 - Outlier Analysis </H2>"
   ]
  },
  {
   "cell_type": "markdown",
   "id": "de3a3db4-5ece-48b1-801a-8b41a47c6dfc",
   "metadata": {},
   "source": [
    "<a id='outlier_analysis_1'></a>\n",
    "<H4 style=\"color: #156082; font-family: 'Lucida Bright', sans-serif;\"> Outlier Analysis 1 - Analysis of Hours to Complete for the Current Data</H4>"
   ]
  },
  {
   "cell_type": "code",
   "execution_count": 15,
   "id": "3b3654b5-9476-414c-bbca-f073e813b15c",
   "metadata": {},
   "outputs": [],
   "source": [
    "#am.outlier_analysis_1()"
   ]
  },
  {
   "cell_type": "markdown",
   "id": "9271a3c0-8197-441e-aa5a-2ec1c5e0c8b4",
   "metadata": {},
   "source": [
    "<a id='outlier_analysis_2'></a>\n",
    "<H4 style=\"color: #156082; font-family: 'Lucida Bright', sans-serif;\"> Outlier Analysis 2 - Analysis of Hours to Complete for the Historic Data</H4>"
   ]
  },
  {
   "cell_type": "code",
   "execution_count": 16,
   "id": "ca92c672-23c0-4002-993f-57fc174f8f27",
   "metadata": {},
   "outputs": [],
   "source": [
    "#am.outlier_analysis_2()"
   ]
  },
  {
   "cell_type": "markdown",
   "id": "2dd71d72-b454-4634-b85b-2c89908a2b79",
   "metadata": {},
   "source": [
    "<a id='outlier_analysis_3'></a>\n",
    "<H4 style=\"color: #156082; font-family: 'Lucida Bright', sans-serif;\"> Outlier Analysis 3 - Analysis of Days Past Due for the Current Data</H4>"
   ]
  },
  {
   "cell_type": "code",
   "execution_count": 17,
   "id": "5b8434c5-73d7-4d61-a438-49eaa84caa4c",
   "metadata": {},
   "outputs": [],
   "source": [
    "#am.outlier_analysis_3()"
   ]
  },
  {
   "cell_type": "markdown",
   "id": "ea1940b6-e6bf-444e-ae77-00275825266c",
   "metadata": {},
   "source": [
    "<a id='outlier_analysis_4'></a>\n",
    "<H4 style=\"color: #156082; font-family: 'Lucida Bright', sans-serif;\"> Outlier Analysis 4 - Analysis of Days Past Due for the Historic Data</H4>"
   ]
  },
  {
   "cell_type": "code",
   "execution_count": 18,
   "id": "cd4bc775-971d-4bfa-9d3f-375d37fa8639",
   "metadata": {},
   "outputs": [],
   "source": [
    "#am.outlier_analysis_4()"
   ]
  },
  {
   "cell_type": "markdown",
   "id": "a791853e-9877-4400-b7b4-b62b740cb911",
   "metadata": {},
   "source": [
    "<a id='distribution_analysis'></a>\n",
    "<H2 style=\"color: #156082; font-family: 'Lucida Bright', sans-serif;\"> Section 5 - Data Distribution Analysis </H2>"
   ]
  },
  {
   "cell_type": "markdown",
   "id": "325e6e81-31d9-4828-b1ed-d6cf3340f759",
   "metadata": {},
   "source": [
    "<a id='distribution_analysis_1'></a>\n",
    "<H4 style=\"color: #156082; font-family: 'Lucida Bright', sans-serif;\"> Distribution Analysis 1 - Analysis of Hours to Complete for the Current Data</H4>"
   ]
  },
  {
   "cell_type": "code",
   "execution_count": 19,
   "id": "354d454d-5d5e-4e19-9337-5b75720427c1",
   "metadata": {},
   "outputs": [],
   "source": [
    "#am.distribution_analysis_1()"
   ]
  },
  {
   "cell_type": "markdown",
   "id": "8c03b3d3-355b-4272-86c4-fd21e39824a3",
   "metadata": {},
   "source": [
    "<a id='distribution_analysis_2'></a>\n",
    "<H4 style=\"color: #156082; font-family: 'Lucida Bright', sans-serif;\"> Distribution Analysis 2 - Analysis of Hours to Complete for the Historic Data</H4>"
   ]
  },
  {
   "cell_type": "code",
   "execution_count": 20,
   "id": "146cb2bd-de60-4200-b6d9-c27996cc15b6",
   "metadata": {},
   "outputs": [],
   "source": [
    "#am.distribution_analysis_2()"
   ]
  },
  {
   "cell_type": "markdown",
   "id": "a3ab0038-7a33-40b8-8ce5-42c2a061cf71",
   "metadata": {},
   "source": [
    "<a id='distribution_analysis_3'></a>\n",
    "<H4 style=\"color: #156082; font-family: 'Lucida Bright', sans-serif;\"> Distribution Analysis 3 - Analysis of Days Past Due for the Current Data</H4>"
   ]
  },
  {
   "cell_type": "code",
   "execution_count": 21,
   "id": "43e4283d-a910-4359-959f-74a7cb368f40",
   "metadata": {},
   "outputs": [],
   "source": [
    "#am.distribution_analysis_3()"
   ]
  },
  {
   "cell_type": "markdown",
   "id": "3e43e2a8-0047-49a3-9660-0931692a8ca8",
   "metadata": {},
   "source": [
    "<a id='distribution_analysis_4'></a>\n",
    "<H4 style=\"color: #156082; font-family: 'Lucida Bright', sans-serif;\"> Distribution Analysis 4 - Analysis of Days Past Due for the Historic Data</H4>"
   ]
  },
  {
   "cell_type": "code",
   "execution_count": 22,
   "id": "3ccdaed4-b041-443d-a9e4-ad1e18ed5630",
   "metadata": {},
   "outputs": [],
   "source": [
    "#am.distribution_analysis_4()"
   ]
  },
  {
   "cell_type": "markdown",
   "id": "c41cd8cb-6c4d-41c3-b54f-ecdc02971738",
   "metadata": {},
   "source": [
    "<a id='transformation_analysis'></a>\n",
    "<H2 style=\"color: #156082; font-family: 'Lucida Bright', sans-serif;\"> Section 6 - Data Transformation Analysis </H2>"
   ]
  },
  {
   "cell_type": "markdown",
   "id": "b2ae5949-60be-49e5-bedb-048fc4ab4e2c",
   "metadata": {},
   "source": [
    "<a id='transformation_analysis_1'></a>\n",
    "<H4 style=\"color: #156082; font-family: 'Lucida Bright', sans-serif;\"> Transformation Analysis 1 - Analysis of Hours to Complete for the Current Data</H4>"
   ]
  },
  {
   "cell_type": "code",
   "execution_count": 23,
   "id": "d5a54e5d-a163-446c-a072-b6dfd60c3292",
   "metadata": {},
   "outputs": [],
   "source": [
    "#am.transformation_analysis_1()"
   ]
  },
  {
   "cell_type": "markdown",
   "id": "459313bd-7039-457a-ae76-1bc7f73dd226",
   "metadata": {},
   "source": [
    "<a id='transformation_analysis_2'></a>\n",
    "<H4 style=\"color: #156082; font-family: 'Lucida Bright', sans-serif;\"> Transformation Analysis 2 - Analysis of Hours to Complete for the Historic Data</H4>"
   ]
  },
  {
   "cell_type": "code",
   "execution_count": 24,
   "id": "0c2b009b-61ae-4376-8b73-8c7170db843c",
   "metadata": {},
   "outputs": [],
   "source": [
    "#am.transformation_analysis_2()"
   ]
  },
  {
   "cell_type": "markdown",
   "id": "afa330c8-9578-44f3-9689-f8ba3cd2695c",
   "metadata": {},
   "source": [
    "<a id='transformation_analysis_3'></a>\n",
    "<H4 style=\"color: #156082; font-family: 'Lucida Bright', sans-serif;\"> Transformation Analysis 3 - Analysis of Days Past Due for the Current Data</H4>"
   ]
  },
  {
   "cell_type": "code",
   "execution_count": 25,
   "id": "ced89383-de31-4567-a474-6cad2de146a8",
   "metadata": {},
   "outputs": [],
   "source": [
    "#am.transformation_analysis_3()"
   ]
  },
  {
   "cell_type": "markdown",
   "id": "55255a83-808e-494e-bed9-04869805cbc3",
   "metadata": {},
   "source": [
    "<a id='transformation_analysis_4'></a>\n",
    "<H4 style=\"color: #156082; font-family: 'Lucida Bright', sans-serif;\"> Transformation Analysis 4 - Analysis of Days Past Due for the Historic Data</H4>"
   ]
  },
  {
   "cell_type": "code",
   "execution_count": 26,
   "id": "71d78ac1-191b-42f1-a042-2aed4e0034fd",
   "metadata": {},
   "outputs": [],
   "source": [
    "#am.transformation_analysis_4()"
   ]
  },
  {
   "cell_type": "markdown",
   "id": "431c43e5-2cf3-4b1d-aa83-9b9c3289c6dc",
   "metadata": {},
   "source": [
    "<a id='t_test_analysis'></a>\n",
    "<H2 style=\"color: #156082; font-family: 'Lucida Bright', sans-serif;\"> Section 7 - Independent T-Test Analysis </H2>"
   ]
  },
  {
   "cell_type": "markdown",
   "id": "23031a59-9e9a-424c-a64c-98e462cd4d45",
   "metadata": {},
   "source": [
    "<a id='t_test_analysis_1'></a>\n",
    "<H4 style=\"color: #156082; font-family: 'Lucida Bright', sans-serif;\"> Independent T-Test Analysis 1 - Analysis of Hours to Complete with the Original Data Format</H4>"
   ]
  },
  {
   "cell_type": "code",
   "execution_count": 27,
   "id": "1f82ee62-d893-4fa0-9727-33fa1450555f",
   "metadata": {},
   "outputs": [],
   "source": [
    "#am.independent_ttest_analysis_1()"
   ]
  },
  {
   "cell_type": "markdown",
   "id": "b91bbe88-caa5-4471-a0d5-11010aadd2f1",
   "metadata": {},
   "source": [
    "<a id='t_test_analysis_2'></a>\n",
    "<H4 style=\"color: #156082; font-family: 'Lucida Bright', sans-serif;\"> Independent T-Test Analysis 2 - Analysis of Days Past Due with the Original Data Format</H4>"
   ]
  },
  {
   "cell_type": "code",
   "execution_count": 28,
   "id": "f0810e71-d030-4bdf-a5b8-36609085c2e8",
   "metadata": {},
   "outputs": [],
   "source": [
    "#am.independent_ttest_analysis_2()"
   ]
  },
  {
   "cell_type": "markdown",
   "id": "6636249d-a91e-45c0-986b-b93464b2ed6c",
   "metadata": {},
   "source": [
    "<a id='t_test_analysis_3'></a>\n",
    "<H4 style=\"color: #156082; font-family: 'Lucida Bright', sans-serif;\"> Independent T-Test Analysis 3 - Analysis of Hours to Complete with the Transformed Data Format</H4>"
   ]
  },
  {
   "cell_type": "code",
   "execution_count": 29,
   "id": "9f4414eb-8e5e-4289-a5bf-9ae5abb04ea6",
   "metadata": {},
   "outputs": [],
   "source": [
    "#am.independent_ttest_analysis_3()"
   ]
  },
  {
   "cell_type": "markdown",
   "id": "fae41359-0906-4dac-8756-8d97cc64d8f6",
   "metadata": {},
   "source": [
    "<a id='t_test_analysis_4'></a>\n",
    "<H4 style=\"color: #156082; font-family: 'Lucida Bright', sans-serif;\"> Independent T-Test Analysis 4 - Analysis of Days Past Due with the Transformed Data Format</H4>"
   ]
  },
  {
   "cell_type": "code",
   "execution_count": 30,
   "id": "cd7da536-b304-4f36-b18b-8bd457ba77b0",
   "metadata": {},
   "outputs": [],
   "source": [
    "#am.independent_ttest_analysis_4()"
   ]
  },
  {
   "cell_type": "markdown",
   "id": "83dc7086-edcf-4008-9fb5-abb0630348da",
   "metadata": {},
   "source": [
    "<a id='u_test_analysis'></a>\n",
    "<H2 style=\"color: #156082; font-family: 'Lucida Bright', sans-serif;\"> Section 8 - Mann-Whitney U Test Analysis </H2>"
   ]
  },
  {
   "cell_type": "markdown",
   "id": "6b7e9ae1-3b34-4309-9ad7-2ba11f12275a",
   "metadata": {},
   "source": [
    "<a id='u_test_analysis_1'></a>\n",
    "<H4 style=\"color: #156082; font-family: 'Lucida Bright', sans-serif;\"> Mann-Whitney U Test Analysis 1 - Analysis of Hours to Complete</H4>"
   ]
  },
  {
   "cell_type": "code",
   "execution_count": 31,
   "id": "49e91290-77df-4ad0-90c1-8e57dfac315d",
   "metadata": {},
   "outputs": [],
   "source": [
    "#am.mannwhitney_utest_analysis_1()"
   ]
  },
  {
   "cell_type": "markdown",
   "id": "c76e27ab-e15e-4696-beaa-7608df43e938",
   "metadata": {},
   "source": [
    "<a id='u_test_analysis_2'></a>\n",
    "<H4 style=\"color: #156082; font-family: 'Lucida Bright', sans-serif;\"> Mann-Whitney U Test Analysis 2 - Analysis of Days Past Due</H4>"
   ]
  },
  {
   "cell_type": "code",
   "execution_count": 32,
   "id": "a343dcb6-d70e-4cbd-ac5a-0a06eba8c222",
   "metadata": {},
   "outputs": [],
   "source": [
    "#am.mannwhitney_utest_analysis_2()"
   ]
  },
  {
   "cell_type": "markdown",
   "id": "2ed9b735-50bd-4e82-b419-0795da5fc1cf",
   "metadata": {},
   "source": [
    "<a id='param_nonparam_analysis'></a>\n",
    "<H2 style=\"color: #156082; font-family: 'Lucida Bright', sans-serif;\"> Section 9 - Parametric and Nonparametric Analysis </H2>"
   ]
  },
  {
   "cell_type": "markdown",
   "id": "7a7edd66-42ba-4a7c-80cd-0e5d14177fe1",
   "metadata": {},
   "source": [
    "<a id='param_nonparam_analysis_1'></a>\n",
    "<H4 style=\"color: #156082; font-family: 'Lucida Bright', sans-serif;\"> Parametric and Nonparametric Analysis 1 - Analysis of Hours to Complete</H4>"
   ]
  },
  {
   "cell_type": "code",
   "execution_count": 33,
   "id": "d05ab0df-d498-4dd5-a17f-c8b6c0949dee",
   "metadata": {},
   "outputs": [],
   "source": [
    "#am.parametric_nonparametric_analysis_1()"
   ]
  },
  {
   "cell_type": "markdown",
   "id": "5c24f8e9-df20-4586-ac4b-5d193d1b81a2",
   "metadata": {},
   "source": [
    "<a id='param_nonparam_analysis_2'></a>\n",
    "<H4 style=\"color: #156082; font-family: 'Lucida Bright', sans-serif;\"> Parametric and Nonparametric Analysis 2 - Analysis of Days Past Due</H4>"
   ]
  },
  {
   "cell_type": "code",
   "execution_count": 34,
   "id": "48b9e38a-c4d2-4880-baec-a61b7c1b50a2",
   "metadata": {},
   "outputs": [],
   "source": [
    "#am.parametric_nonparametric_analysis_2()"
   ]
  },
  {
   "cell_type": "markdown",
   "id": "d7797724-b142-477e-9931-1689fb365959",
   "metadata": {},
   "source": [
    "<a id='chi_square_analysis'></a>\n",
    "<H2 style=\"color: #156082; font-family: 'Lucida Bright', sans-serif;\"> Section 10 - Chi-Square Analysis </H2>"
   ]
  },
  {
   "cell_type": "markdown",
   "id": "a37f4fa9-e848-4b2f-a89c-ec558217b8dd",
   "metadata": {},
   "source": [
    "<a id='chi_square_analysis_1'></a>\n",
    "<H4 style=\"color: #156082; font-family: 'Lucida Bright', sans-serif;\"> Chi-Square Analysis 1 - Analysis of Dataset Name and SLA Label</H4>"
   ]
  },
  {
   "cell_type": "code",
   "execution_count": 35,
   "id": "3d2a06f0-dbf0-48e6-bb98-eeb721071349",
   "metadata": {},
   "outputs": [],
   "source": [
    "#am.chi_square_test_analysis_1()"
   ]
  },
  {
   "cell_type": "code",
   "execution_count": null,
   "id": "5452ec60-708d-45d6-8378-5e4ebaf94bf6",
   "metadata": {},
   "outputs": [],
   "source": []
  }
 ],
 "metadata": {
  "kernelspec": {
   "display_name": "Python 3 (ipykernel)",
   "language": "python",
   "name": "python3"
  },
  "language_info": {
   "codemirror_mode": {
    "name": "ipython",
    "version": 3
   },
   "file_extension": ".py",
   "mimetype": "text/x-python",
   "name": "python",
   "nbconvert_exporter": "python",
   "pygments_lexer": "ipython3",
   "version": "3.9.21"
  }
 },
 "nbformat": 4,
 "nbformat_minor": 5
}
